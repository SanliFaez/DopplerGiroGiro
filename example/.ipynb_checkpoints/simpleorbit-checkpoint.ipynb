{
 "cells": [
  {
   "cell_type": "markdown",
   "source": [
    "# Simple Orbit notebook\n",
    "In this notebook, a recorded dataset is loaded to analyze the doppler shift along the sound-source trajectory.\n",
    "This code does not automatically detect the peaks and valleys corresponding to the location in the orbit.\n",
    "The user should manually find these segments based on the loudness of the sound, assuming that the orbit is closest to the detector when the sound is loudest."
   ],
   "metadata": {
    "collapsed": false,
    "pycharm": {
     "name": "#%% md\n"
    }
   }
  },
  {
   "cell_type": "code",
   "execution_count": null,
   "outputs": [],
   "source": [
    "## importing the necessary libraries\n",
    "import matplotlib\n",
    "matplotlib.use('TkAgg')\n",
    "import numpy as np\n",
    "import matplotlib.pyplot as plt\n",
    "from scipy.fftpack import rfft"
   ],
   "metadata": {
    "collapsed": false,
    "pycharm": {
     "name": "#%%\n"
    }
   }
  },
  {
   "cell_type": "markdown",
   "source": [
    "## Load data and measurement parameters"
   ],
   "metadata": {
    "collapsed": false
   }
  },
  {
   "cell_type": "code",
   "execution_count": null,
   "outputs": [],
   "source": [
    "RATE = 48000  #sampling rate in Hz, check the recorder file\n",
    "data = np.load(\"example/raw_20230913_testrun/data_20230913_313Hz.npy\")\n",
    "data_filtered = data[4700:]\n",
    "plt.plot(data[:10000])\n",
    "plt.show()\n",
    "\n"
   ],
   "metadata": {
    "collapsed": false,
    "pycharm": {
     "name": "#%%\n"
    }
   }
  }
 ],
 "metadata": {
  "kernelspec": {
   "display_name": "Python 3",
   "language": "python",
   "name": "python3"
  },
  "language_info": {
   "codemirror_mode": {
    "name": "ipython",
    "version": 2
   },
   "file_extension": ".py",
   "mimetype": "text/x-python",
   "name": "python",
   "nbconvert_exporter": "python",
   "pygments_lexer": "ipython2",
   "version": "2.7.6"
  }
 },
 "nbformat": 4,
 "nbformat_minor": 0
}