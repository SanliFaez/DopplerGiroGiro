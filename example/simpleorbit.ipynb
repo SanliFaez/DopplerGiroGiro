{
 "cells": [
  {
   "cell_type": "markdown",
   "metadata": {
    "collapsed": false,
    "jupyter": {
     "outputs_hidden": false
    },
    "pycharm": {
     "name": "#%% md\n"
    }
   },
   "source": [
    "# Simple Orbit notebook\n",
    "In this notebook, a recorded dataset is loaded to analyze the doppler shift along the sound-source trajectory.\n",
    "This code does not automatically detect the peaks and valleys corresponding to the location in the orbit.\n",
    "The user should manually find these segments based on the loudness of the sound, assuming that the orbit is closest to the detector when the sound is loudest."
   ]
  },
  {
   "cell_type": "code",
   "execution_count": null,
   "metadata": {
    "collapsed": false,
    "jupyter": {
     "outputs_hidden": false
    },
    "pycharm": {
     "name": "#%%\n"
    }
   },
   "outputs": [],
   "source": [
    "## importing the necessary libraries\n",
    "import matplotlib\n",
    "#matplotlib.use('TkAgg')\n",
    "import numpy as np\n",
    "import matplotlib.pyplot as plt\n",
    "from scipy.fftpack import rfft"
   ]
  },
  {
   "cell_type": "markdown",
   "metadata": {
    "collapsed": false,
    "jupyter": {
     "outputs_hidden": false
    }
   },
   "source": [
    "## Load data and measurement parameters"
   ]
  },
  {
   "cell_type": "code",
   "execution_count": null,
   "metadata": {
    "collapsed": false,
    "jupyter": {
     "outputs_hidden": false
    },
    "pycharm": {
     "name": "#%%\n"
    }
   },
   "outputs": [],
   "source": [
    "RATE = 48000  #sampling rate in Hz, check the recorder file\n",
    "data = np.load(\"../example/raw_20230913_testrun/data_20230913_313Hz.npy\")\n",
    "data_filtered = data[4800:]  #to remove the first chunk of zeros in the data\n",
    "\n",
    "taxis = np.arange(np.size(data_filtered))/RATE\n",
    "plt.plot(taxis, data_filtered, '.-')  #display an overview of the data\n",
    "plt.xlabel('time (s)')\n",
    "plt.show()\n"
   ]
  },
  {
   "cell_type": "markdown",
   "metadata": {},
   "source": [
    "## Inspect segments of the sound\n",
    "Selecting the segment lenght and two different starting point to compare the doppler shift"
   ]
  },
  {
   "cell_type": "code",
   "execution_count": null,
   "metadata": {},
   "outputs": [],
   "source": [
    "seglen = 5000\n",
    "seg1 = 95000\n",
    "seg2 = 102000\n",
    "seg3 = 107000\n",
    "\n",
    "fig, (ax1, ax2) = plt.subplots(2, figsize=(15, 7))\n",
    "\n",
    "chunk1 = data_filtered[seg1:seg1+seglen]\n",
    "chunk2 = data_filtered[seg2:seg2+seglen]\n",
    "chunk3 = data_filtered[seg3:seg3+seglen]\n",
    "\n",
    "line1, = ax1.plot(np.arange(seg1, seg1+seglen, dtype = int), chunk1, '.')\n",
    "line2, = ax1.plot(np.arange(seg2, seg2+seglen, dtype = int), chunk2, '.')\n",
    "line2, = ax1.plot(np.arange(seg3, seg3+seglen, dtype = int), chunk3, '.')\n",
    "line0, = ax1.plot(data_filtered, '-', lw=0.1, alpha=0.2)\n",
    "\n",
    "chunk1_spec = np.abs(rfft(chunk1))\n",
    "chunk2_spec = np.abs(rfft(chunk2))\n",
    "chunk3_spec = np.abs(rfft(chunk3))\n",
    "\n",
    "line_fft1, = ax2.semilogx(chunk1_spec, '-', lw=2)\n",
    "line_fft2, = ax2.semilogx(chunk2_spec, '-', lw=2)\n",
    "line_fft3, = ax2.semilogx(chunk3_spec, '-', lw=2)\n",
    "\n",
    "plt.show()"
   ]
  },
  {
   "cell_type": "markdown",
   "metadata": {},
   "source": [
    "## Calculate the doppler shift\n",
    "here, some assumptions should be made on which segment belongs to which part of the orbit. This is not as straightforward as finding the loudest sound and might need various trials and a better theoretical understanding to make a firm conclusion.\n",
    "\n",
    "However, some estimate of the max source velocity can be made based on the shift"
   ]
  },
  {
   "cell_type": "code",
   "execution_count": null,
   "metadata": {},
   "outputs": [],
   "source": [
    "peak1 = np.argmax(chunk1_spec)\n",
    "peak2 = np.argmax(chunk2_spec)\n",
    "f1 = peak1 * RATE / seglen / 2    #here we are converting the peak frequencies in samples to real SI units\n",
    "f2 = peak2 * RATE / seglen / 2\n",
    "\n",
    "print('shifted frequencies:',f1, f2)\n",
    "print('doppler shift is: {} Hz'.format((f2-f1)))"
   ]
  },
  {
   "cell_type": "markdown",
   "metadata": {},
   "source": [
    "## Make and estimate based on simple theory\n",
    "assuming the max doppler shift is corresponding to the source coming towards and away from the recieved, we can use the formula\n",
    "\n",
    "f2-f1 = (f2+f1)*V/c\n",
    "\n",
    "to calculate the source velocity. Here c is the speed of sound.\n",
    "The orbit radius is V/omega with omega the frequency of orbitting, here estimated to be 1.5 Hz, based on the pattern."
   ]
  },
  {
   "cell_type": "code",
   "execution_count": null,
   "metadata": {},
   "outputs": [],
   "source": [
    "c_sound = 340 # assumed speed of sound in m/s\n",
    "V = c_sound * (f2-f1)/(f2+f1)\n",
    "print ('source velocity is {} m/s'.format(V))\n",
    "\n",
    "r_orbit = V/(2 * np.pi * 1.5)\n",
    "print ('The orbit radius is {} m'.format(r_orbit))\n"
   ]
  },
  {
   "cell_type": "code",
   "execution_count": null,
   "metadata": {},
   "outputs": [],
   "source": []
  }
 ],
 "metadata": {
  "kernelspec": {
   "display_name": "Python 3 (ipykernel)",
   "language": "python",
   "name": "python3"
  },
  "language_info": {
   "codemirror_mode": {
    "name": "ipython",
    "version": 3
   },
   "file_extension": ".py",
   "mimetype": "text/x-python",
   "name": "python",
   "nbconvert_exporter": "python",
   "pygments_lexer": "ipython3",
   "version": "3.10.7"
  }
 },
 "nbformat": 4,
 "nbformat_minor": 4
}
